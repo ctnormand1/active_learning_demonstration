{
 "cells": [
  {
   "cell_type": "code",
   "execution_count": 1,
   "id": "89425997-57e7-4943-ab06-d7059989ffbc",
   "metadata": {},
   "outputs": [],
   "source": [
    "from experiment import Experiment, model_functions\n",
    "from experiment.datasets import load_cifar10\n",
    "from sqlalchemy import create_engine\n",
    "from sqlalchemy.orm import Session\n",
    "from experiment.models import Configuration\n",
    "from sqlalchemy.sql import func\n",
    "from tqdm.notebook import tqdm\n",
    "\n",
    "\n",
    "from tensorflow.keras.layers import Dense, Dropout, Flatten, Conv2D, MaxPooling2D\n",
    "from tensorflow.keras.models import Sequential"
   ]
  },
  {
   "cell_type": "code",
   "execution_count": null,
   "id": "d8a87b9d-199b-4e82-8762-ca7f3db86ad0",
   "metadata": {},
   "outputs": [],
   "source": [
    "def build_model():\n",
    "    model = Sequential()\n",
    "\n",
    "    model.add(Conv2D(filters=32, kernel_size=(3, 3), activation='relu', input_shape=(32, 32, 3)))\n",
    "    model.add(Conv2D(filters=32, kernel_size=(3, 3), activation='relu'))\n",
    "    model.add(MaxPooling2D(pool_size=(2, 2)))\n",
    "\n",
    "    model.add(Flatten())\n",
    "    model.add(Dense(128, activation='relu'))\n",
    "    model.add(Dense(10, activation='softmax'))\n",
    "\n",
    "    model.compile(optimizer='adam', loss='categorical_crossentropy', metrics=['accuracy'])\n",
    "    return model"
   ]
  },
  {
   "cell_type": "code",
   "execution_count": null,
   "id": "4eed4881-ec4b-4e61-b79b-d559a98ca811",
   "metadata": {},
   "outputs": [],
   "source": [
    "def build_model():\n",
    "    model = Sequential()\n",
    "    \n",
    "    model.add(Conv2D(filters=32, kernel_size=(3, 3), activation='relu', kernel_initializer='he_uniform',\n",
    "        padding='same', input_shape=(32, 32, 3)))\n",
    "    model.add(Conv2D(filters=32, kernel_size=(3, 3), activation='relu', kernel_initializer='he_uniform',\n",
    "        padding='same'))\n",
    "    model.add(MaxPooling2D(pool_size=(2, 2)))\n",
    "    model.add(Dropout(0.2))\n",
    "    \n",
    "    model.add(Conv2D(filters=64, kernel_size=(3, 3), activation='relu', kernel_initializer='he_uniform',\n",
    "        padding='same'))\n",
    "    model.add(Conv2D(filters=64, kernel_size=(3, 3), activation='relu', kernel_initializer='he_uniform',\n",
    "    padding='same'))\n",
    "    model.add(MaxPooling2D(pool_size=(2, 2)))\n",
    "    model.add(Dropout(0.2))\n",
    "    \n",
    "    model.add(Conv2D(filters=128, kernel_size=(3, 3), activation='relu', kernel_initializer='he_uniform',\n",
    "        padding='same'))\n",
    "    model.add(Conv2D(filters=128, kernel_size=(3, 3), activation='relu', kernel_initializer='he_uniform',\n",
    "    padding='same'))\n",
    "    model.add(MaxPooling2D(pool_size=(2, 2)))\n",
    "    model.add(Dropout(0.2))\n",
    "    \n",
    "    model.add(Flatten())\n",
    "    model.add(Dense(128, activation='relu', kernel_initializer='he_uniform'))\n",
    "    model.add(Dropout(0.2))\n",
    "    model.add(Dense(10, activation='softmax'))\n",
    "    \n",
    "    model.compile(optimizer='adam', loss='categorical_crossentropy', metrics=['accuracy'])\n",
    "    return model\n",
    "    "
   ]
  },
  {
   "cell_type": "code",
   "execution_count": 2,
   "id": "c7de7630-a288-4423-bafc-d897460aa030",
   "metadata": {},
   "outputs": [],
   "source": [
    "data = load_cifar10(validation_size=1000)\n",
    "data = ((data[0][0][:500], data[0][1][:500]),\n",
    "            (data[1][0][:1000], data[1][1][:1000]),\n",
    "            (data[2][0][:1000], data[2][1][:1000]))"
   ]
  },
  {
   "cell_type": "code",
   "execution_count": 3,
   "id": "f053346a-4904-49fd-b833-4b528f55c999",
   "metadata": {},
   "outputs": [],
   "source": [
    "experiment = Experiment('sqlite:///../data/experiment_data/mp_test_db.db', model_functions.model_1, data)"
   ]
  },
  {
   "cell_type": "code",
   "execution_count": 4,
   "id": "2e095a67-9172-4816-aea6-d2db39ab7ccd",
   "metadata": {},
   "outputs": [],
   "source": [
    "experiment.configure(\n",
    "    unc_pct_range=[0, 0.2],\n",
    "    div_pct_range=[0],\n",
    "    batch_size=100,\n",
    "    num_trials=1,\n",
    "    overwrite_db=True)"
   ]
  },
  {
   "cell_type": "code",
   "execution_count": 5,
   "id": "d362d91c-c793-48a0-ae54-42a9d41db7ab",
   "metadata": {},
   "outputs": [
    {
     "name": "stdout",
     "output_type": "stream",
     "text": [
      "Starting experiment at 2021-09-02 18:43:16\n",
      "There will be a total of 2 trials spread across 2 jobs.\n"
     ]
    },
    {
     "data": {
      "application/vnd.jupyter.widget-view+json": {
       "model_id": "1206c282188e4aac8afaa733e7fe5252",
       "version_major": 2,
       "version_minor": 0
      },
      "text/plain": [
       "Waiting to start   0%|                                                                                        …"
      ]
     },
     "metadata": {},
     "output_type": "display_data"
    },
    {
     "data": {
      "application/vnd.jupyter.widget-view+json": {
       "model_id": "3e46deb2418b46fe91b379a50919b3d1",
       "version_major": 2,
       "version_minor": 0
      },
      "text/plain": [
       "Waiting to start   0%|                                                                                        …"
      ]
     },
     "metadata": {},
     "output_type": "display_data"
    }
   ],
   "source": [
    "experiment.run(n_jobs=2)"
   ]
  },
  {
   "cell_type": "code",
   "execution_count": null,
   "id": "16c694a1-795f-42c9-af3d-3e94d10c1579",
   "metadata": {},
   "outputs": [],
   "source": [
    "pbar = tqdm(total=10, desc='yo')"
   ]
  },
  {
   "cell_type": "code",
   "execution_count": null,
   "id": "0a9cf8b1-0876-4996-b16f-3d1edef73011",
   "metadata": {},
   "outputs": [],
   "source": [
    "pbar.total = 15"
   ]
  },
  {
   "cell_type": "code",
   "execution_count": null,
   "id": "4745959c-c4c9-40dd-b058-2bee1802ff87",
   "metadata": {},
   "outputs": [],
   "source": [
    "pbar.desc"
   ]
  },
  {
   "cell_type": "code",
   "execution_count": null,
   "id": "10ea6a92-9fa7-4a17-ba6f-ccadc4090f6d",
   "metadata": {},
   "outputs": [],
   "source": [
    "pbar.update(1)"
   ]
  },
  {
   "cell_type": "code",
   "execution_count": null,
   "id": "fb9a2ef1-8bf4-4170-8f49-299b85819fef",
   "metadata": {},
   "outputs": [],
   "source": [
    "pbar.refresh()"
   ]
  },
  {
   "cell_type": "code",
   "execution_count": null,
   "id": "c26e71b7-30ed-4a80-855f-eb9e2bea6d10",
   "metadata": {},
   "outputs": [],
   "source": [
    "pbar.reset(total=10)\n"
   ]
  }
 ],
 "metadata": {
  "kernelspec": {
   "display_name": "Python 3",
   "language": "python",
   "name": "python3"
  },
  "language_info": {
   "codemirror_mode": {
    "name": "ipython",
    "version": 3
   },
   "file_extension": ".py",
   "mimetype": "text/x-python",
   "name": "python",
   "nbconvert_exporter": "python",
   "pygments_lexer": "ipython3",
   "version": "3.8.8"
  }
 },
 "nbformat": 4,
 "nbformat_minor": 5
}
