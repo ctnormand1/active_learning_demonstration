{
 "cells": [
  {
   "cell_type": "code",
   "execution_count": 6,
   "id": "89425997-57e7-4943-ab06-d7059989ffbc",
   "metadata": {},
   "outputs": [
    {
     "name": "stdout",
     "output_type": "stream",
     "text": [
      "ERROR! Session/line number was not unique in database. History logging moved to new session 377\n"
     ]
    }
   ],
   "source": [
    "from experiment import Experiment\n",
    "from experiment.datasets import load_cifar10\n",
    "from sqlalchemy import create_engine\n",
    "\n",
    "from tensorflow.keras.layers import Dense, Dropout, Flatten, Conv2D, MaxPooling2D\n",
    "from tensorflow.keras.metrics import CategoricalAccuracy\n",
    "from tensorflow.keras.models import Sequential"
   ]
  },
  {
   "cell_type": "code",
   "execution_count": 12,
   "id": "d8a87b9d-199b-4e82-8762-ca7f3db86ad0",
   "metadata": {},
   "outputs": [],
   "source": [
    "def build_model():\n",
    "    model = Sequential()\n",
    "\n",
    "    model.add(Conv2D(filters=32, kernel_size=(3, 3), activation='relu', input_shape=(32, 32, 3)))\n",
    "    model.add(Conv2D(filters=32, kernel_size=(3, 3), activation='relu'))\n",
    "    model.add(MaxPooling2D(pool_size=(2, 2)))\n",
    "\n",
    "    model.add(Flatten())\n",
    "    model.add(Dense(128, activation='relu'))\n",
    "    model.add(Dense(10, activation='softmax'))\n",
    "\n",
    "    model.compile(optimizer='adam', loss='categorical_crossentropy', metrics=['accuracy'])\n",
    "    return model"
   ]
  },
  {
   "cell_type": "code",
   "execution_count": 7,
   "id": "4eed4881-ec4b-4e61-b79b-d559a98ca811",
   "metadata": {},
   "outputs": [],
   "source": [
    "def build_model():\n",
    "    model = Sequential()\n",
    "    \n",
    "    model.add(Conv2D(filters=32, kernel_size=(3, 3), activation='relu', kernel_initializer='he_uniform',\n",
    "        padding='same', input_shape=(32, 32, 3)))\n",
    "    model.add(Conv2D(filters=32, kernel_size=(3, 3), activation='relu', kernel_initializer='he_uniform',\n",
    "        padding='same'))\n",
    "    model.add(MaxPooling2D(pool_size=(2, 2)))\n",
    "    model.add(Dropout(0.2))\n",
    "    \n",
    "    model.add(Conv2D(filters=64, kernel_size=(3, 3), activation='relu', kernel_initializer='he_uniform',\n",
    "        padding='same'))\n",
    "    model.add(Conv2D(filters=64, kernel_size=(3, 3), activation='relu', kernel_initializer='he_uniform',\n",
    "    padding='same'))\n",
    "    model.add(MaxPooling2D(pool_size=(2, 2)))\n",
    "    model.add(Dropout(0.2))\n",
    "    \n",
    "    model.add(Conv2D(filters=128, kernel_size=(3, 3), activation='relu', kernel_initializer='he_uniform',\n",
    "        padding='same'))\n",
    "    model.add(Conv2D(filters=128, kernel_size=(3, 3), activation='relu', kernel_initializer='he_uniform',\n",
    "    padding='same'))\n",
    "    model.add(MaxPooling2D(pool_size=(2, 2)))\n",
    "    model.add(Dropout(0.2))\n",
    "    \n",
    "    model.add(Flatten())\n",
    "    model.add(Dense(128, activation='relu', kernel_initializer='he_uniform'))\n",
    "    model.add(Dropout(0.2))\n",
    "    model.add(Dense(10, activation='softmax'))\n",
    "    \n",
    "    model.compile(optimizer='adam', loss='categorical_crossentropy', metrics=['accuracy'])\n",
    "    return model\n",
    "    "
   ]
  },
  {
   "cell_type": "code",
   "execution_count": 8,
   "id": "c7de7630-a288-4423-bafc-d897460aa030",
   "metadata": {},
   "outputs": [],
   "source": [
    "X_train, y_train, X_val, y_val, X_test, y_test = load_cifar10()"
   ]
  },
  {
   "cell_type": "code",
   "execution_count": 4,
   "id": "62772b4f-79ca-4b5a-ae30-e0d69d9352b1",
   "metadata": {},
   "outputs": [],
   "source": [
    "engine = create_engine('sqlite:///../data/test_db3.db')"
   ]
  },
  {
   "cell_type": "code",
   "execution_count": 5,
   "id": "5fe85fa1-6d15-4e60-8bc2-da6ee1b02f7a",
   "metadata": {},
   "outputs": [],
   "source": [
    "experiment = Experiment(\n",
    "    engine=engine,\n",
    "    model_func=build_model, \n",
    "    data=[(X_train, y_train), (X_val, y_val), (X_test, y_test)])\n",
    "\n",
    "experiment.initialize_db(overwrite=True)\n",
    "\n",
    "experiment.configure(\n",
    "    unc_pct_range=[0, 0.9],\n",
    "    div_pct_range=[0],\n",
    "    batch_size=1000,\n",
    "    num_trials=3)"
   ]
  },
  {
   "cell_type": "code",
   "execution_count": 13,
   "id": "9785a973-1b7c-47a2-93e7-462457adbeb3",
   "metadata": {},
   "outputs": [],
   "source": [
    "model = build_model()"
   ]
  },
  {
   "cell_type": "code",
   "execution_count": 14,
   "id": "d1214499-c7aa-44da-9c96-a0dc133cc1e1",
   "metadata": {},
   "outputs": [
    {
     "name": "stdout",
     "output_type": "stream",
     "text": [
      "Epoch 1/50\n",
      "1250/1250 [==============================] - 92s 73ms/step - loss: 3.0320 - accuracy: 0.0979 - val_loss: 2.3033 - val_accuracy: 0.0992\n",
      "Epoch 2/50\n",
      "1250/1250 [==============================] - 85s 68ms/step - loss: 2.2974 - accuracy: 0.1053 - val_loss: 2.3099 - val_accuracy: 0.0987\n",
      "Epoch 3/50\n",
      "1250/1250 [==============================] - 77s 62ms/step - loss: 2.2817 - accuracy: 0.1152 - val_loss: 2.3341 - val_accuracy: 0.0994\n",
      "Epoch 4/50\n",
      "1250/1250 [==============================] - 78s 62ms/step - loss: 2.2607 - accuracy: 0.1223 - val_loss: 2.3658 - val_accuracy: 0.1001\n",
      "Epoch 5/50\n",
      "1250/1250 [==============================] - 78s 63ms/step - loss: 2.2406 - accuracy: 0.1290 - val_loss: 2.4188 - val_accuracy: 0.0984\n",
      "Epoch 6/50\n",
      "1250/1250 [==============================] - 78s 62ms/step - loss: 2.2167 - accuracy: 0.1401 - val_loss: 2.4651 - val_accuracy: 0.0992\n",
      "Epoch 7/50\n",
      "1250/1250 [==============================] - 77s 62ms/step - loss: 2.1920 - accuracy: 0.1492 - val_loss: 2.6248 - val_accuracy: 0.1006\n",
      "Epoch 8/50\n",
      "1250/1250 [==============================] - 78s 63ms/step - loss: 2.1753 - accuracy: 0.1594 - val_loss: 2.6471 - val_accuracy: 0.1002\n",
      "Epoch 9/50\n",
      "1250/1250 [==============================] - 79s 63ms/step - loss: 2.1515 - accuracy: 0.1676 - val_loss: 2.7112 - val_accuracy: 0.1009\n",
      "Epoch 10/50\n",
      "1250/1250 [==============================] - 77s 62ms/step - loss: 2.1310 - accuracy: 0.1755 - val_loss: 2.8101 - val_accuracy: 0.0987\n",
      "Epoch 11/50\n",
      "1250/1250 [==============================] - 79s 63ms/step - loss: 2.1073 - accuracy: 0.1855 - val_loss: 2.9511 - val_accuracy: 0.1006\n",
      "Epoch 12/50\n",
      "1250/1250 [==============================] - 79s 63ms/step - loss: 2.0843 - accuracy: 0.1963 - val_loss: 3.0853 - val_accuracy: 0.1017\n",
      "Epoch 13/50\n",
      "1250/1250 [==============================] - 77s 62ms/step - loss: 2.0654 - accuracy: 0.2006 - val_loss: 3.1551 - val_accuracy: 0.0995\n",
      "Epoch 14/50\n",
      "1250/1250 [==============================] - 68s 54ms/step - loss: 2.0434 - accuracy: 0.2104 - val_loss: 3.5517 - val_accuracy: 0.1008\n",
      "Epoch 15/50\n",
      "1250/1250 [==============================] - 66s 53ms/step - loss: 2.0338 - accuracy: 0.2162 - val_loss: 3.4972 - val_accuracy: 0.1007\n",
      "Epoch 16/50\n",
      "1250/1250 [==============================] - 67s 53ms/step - loss: 2.0112 - accuracy: 0.2239 - val_loss: 3.6914 - val_accuracy: 0.0994\n",
      "Epoch 17/50\n",
      "1250/1250 [==============================] - 66s 53ms/step - loss: 1.9929 - accuracy: 0.2304 - val_loss: 4.0783 - val_accuracy: 0.1006\n",
      "Epoch 18/50\n",
      "1250/1250 [==============================] - 72s 57ms/step - loss: 1.9871 - accuracy: 0.2338 - val_loss: 3.8805 - val_accuracy: 0.1035\n",
      "Epoch 19/50\n",
      "1250/1250 [==============================] - 81s 65ms/step - loss: 1.9672 - accuracy: 0.2407 - val_loss: 3.9878 - val_accuracy: 0.1041\n",
      "Epoch 20/50\n",
      "1250/1250 [==============================] - 79s 63ms/step - loss: 1.9654 - accuracy: 0.2426 - val_loss: 4.3866 - val_accuracy: 0.1020\n",
      "Epoch 21/50\n",
      "1250/1250 [==============================] - 79s 63ms/step - loss: 1.9513 - accuracy: 0.2478 - val_loss: 4.7226 - val_accuracy: 0.1015\n",
      "Epoch 22/50\n",
      "1250/1250 [==============================] - 79s 63ms/step - loss: 1.9384 - accuracy: 0.2546 - val_loss: 4.6989 - val_accuracy: 0.0989\n",
      "Epoch 23/50\n",
      "1250/1250 [==============================] - 79s 63ms/step - loss: 1.9217 - accuracy: 0.2588 - val_loss: 4.8192 - val_accuracy: 0.1034\n",
      "Epoch 24/50\n",
      "1250/1250 [==============================] - 79s 63ms/step - loss: 1.9083 - accuracy: 0.2641 - val_loss: 4.5386 - val_accuracy: 0.1019\n",
      "Epoch 25/50\n",
      "1250/1250 [==============================] - 79s 63ms/step - loss: 1.9092 - accuracy: 0.2658 - val_loss: 4.9525 - val_accuracy: 0.1037\n",
      "Epoch 26/50\n",
      "1250/1250 [==============================] - 79s 63ms/step - loss: 1.8953 - accuracy: 0.2704 - val_loss: 5.0857 - val_accuracy: 0.1038\n",
      "Epoch 27/50\n",
      "1250/1250 [==============================] - 79s 63ms/step - loss: 1.8760 - accuracy: 0.2763 - val_loss: 5.5449 - val_accuracy: 0.1018\n",
      "Epoch 28/50\n",
      "1250/1250 [==============================] - 79s 63ms/step - loss: 1.8700 - accuracy: 0.2808 - val_loss: 5.5653 - val_accuracy: 0.1023\n",
      "Epoch 29/50\n",
      "1250/1250 [==============================] - 78s 63ms/step - loss: 1.8572 - accuracy: 0.2829 - val_loss: 5.9812 - val_accuracy: 0.0999\n",
      "Epoch 30/50\n",
      "1250/1250 [==============================] - 77s 62ms/step - loss: 1.8622 - accuracy: 0.2851 - val_loss: 5.8602 - val_accuracy: 0.1007\n",
      "Epoch 31/50\n",
      "1250/1250 [==============================] - 66s 53ms/step - loss: 1.8424 - accuracy: 0.2895 - val_loss: 5.9502 - val_accuracy: 0.0997\n",
      "Epoch 32/50\n",
      "1250/1250 [==============================] - 67s 54ms/step - loss: 1.8476 - accuracy: 0.2924 - val_loss: 6.2696 - val_accuracy: 0.1022\n",
      "Epoch 33/50\n",
      "1250/1250 [==============================] - 73s 59ms/step - loss: 1.8293 - accuracy: 0.2963 - val_loss: 6.0645 - val_accuracy: 0.1023\n",
      "Epoch 34/50\n",
      "1250/1250 [==============================] - 78s 63ms/step - loss: 1.8210 - accuracy: 0.3011 - val_loss: 6.3890 - val_accuracy: 0.1028\n",
      "Epoch 35/50\n",
      "1250/1250 [==============================] - 77s 62ms/step - loss: 1.7991 - accuracy: 0.3044 - val_loss: 6.4164 - val_accuracy: 0.1028\n",
      "Epoch 36/50\n",
      "1250/1250 [==============================] - 78s 63ms/step - loss: 1.7962 - accuracy: 0.3082 - val_loss: 6.9301 - val_accuracy: 0.1040\n",
      "Epoch 37/50\n",
      "1250/1250 [==============================] - 78s 62ms/step - loss: 1.7945 - accuracy: 0.3106 - val_loss: 6.7530 - val_accuracy: 0.1013\n",
      "Epoch 38/50\n",
      "1250/1250 [==============================] - 77s 62ms/step - loss: 1.7871 - accuracy: 0.3129 - val_loss: 7.0958 - val_accuracy: 0.1002\n",
      "Epoch 39/50\n",
      "1250/1250 [==============================] - 78s 62ms/step - loss: 1.7819 - accuracy: 0.3157 - val_loss: 7.3467 - val_accuracy: 0.1024\n",
      "Epoch 40/50\n",
      "1250/1250 [==============================] - 78s 62ms/step - loss: 1.7858 - accuracy: 0.3167 - val_loss: 7.2037 - val_accuracy: 0.0978\n",
      "Epoch 41/50\n",
      "1250/1250 [==============================] - 78s 63ms/step - loss: 1.7625 - accuracy: 0.3232 - val_loss: 7.8361 - val_accuracy: 0.1022\n",
      "Epoch 42/50\n",
      "1250/1250 [==============================] - 78s 62ms/step - loss: 1.7628 - accuracy: 0.3245 - val_loss: 7.8414 - val_accuracy: 0.0990\n",
      "Epoch 43/50\n",
      "1250/1250 [==============================] - 79s 63ms/step - loss: 1.7466 - accuracy: 0.3279 - val_loss: 7.9011 - val_accuracy: 0.1015\n",
      "Epoch 44/50\n",
      "1250/1250 [==============================] - 81s 65ms/step - loss: 1.7434 - accuracy: 0.3303 - val_loss: 8.5007 - val_accuracy: 0.1039\n",
      "Epoch 45/50\n",
      "1250/1250 [==============================] - 78s 62ms/step - loss: 1.7489 - accuracy: 0.3296 - val_loss: 8.3956 - val_accuracy: 0.1020\n",
      "Epoch 46/50\n",
      "1250/1250 [==============================] - 65s 52ms/step - loss: 1.7263 - accuracy: 0.3348 - val_loss: 8.5191 - val_accuracy: 0.1006\n",
      "Epoch 47/50\n",
      "1250/1250 [==============================] - 65s 52ms/step - loss: 1.7363 - accuracy: 0.3358 - val_loss: 9.1411 - val_accuracy: 0.1004\n",
      "Epoch 48/50\n",
      "1250/1250 [==============================] - 65s 52ms/step - loss: 1.7173 - accuracy: 0.3428 - val_loss: 8.7516 - val_accuracy: 0.0995\n",
      "Epoch 49/50\n",
      "1250/1250 [==============================] - 65s 52ms/step - loss: 1.7023 - accuracy: 0.3462 - val_loss: 8.6802 - val_accuracy: 0.0972\n",
      "Epoch 50/50\n",
      "1250/1250 [==============================] - 65s 52ms/step - loss: 1.7016 - accuracy: 0.3460 - val_loss: 9.2076 - val_accuracy: 0.1011\n"
     ]
    },
    {
     "data": {
      "text/plain": [
       "<tensorflow.python.keras.callbacks.History at 0x1f68f934970>"
      ]
     },
     "execution_count": 14,
     "metadata": {},
     "output_type": "execute_result"
    }
   ],
   "source": [
    "model.fit(X_train, experiment.y_train_oh, validation_data=(X_val, experiment.y_val_oh), batch_size=32, epochs=50, verbose=1)"
   ]
  }
 ],
 "metadata": {
  "kernelspec": {
   "display_name": "Python 3",
   "language": "python",
   "name": "python3"
  },
  "language_info": {
   "codemirror_mode": {
    "name": "ipython",
    "version": 3
   },
   "file_extension": ".py",
   "mimetype": "text/x-python",
   "name": "python",
   "nbconvert_exporter": "python",
   "pygments_lexer": "ipython3",
   "version": "3.8.8"
  }
 },
 "nbformat": 4,
 "nbformat_minor": 5
}
