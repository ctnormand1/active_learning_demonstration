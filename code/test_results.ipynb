{
 "cells": [
  {
   "cell_type": "code",
   "execution_count": 1,
   "id": "544ccf47-19ed-467e-885f-2dfcf4127647",
   "metadata": {},
   "outputs": [],
   "source": [
    "import pandas as pd\n",
    "import sqlite3\n",
    "import matplotlib.pyplot as plt"
   ]
  },
  {
   "cell_type": "code",
   "execution_count": 2,
   "id": "2820f693-e9cf-4cc2-bd42-8b7f1d482424",
   "metadata": {},
   "outputs": [
    {
     "name": "stdout",
     "output_type": "stream",
     "text": [
      "<class 'pandas.core.frame.DataFrame'>\n",
      "RangeIndex: 9 entries, 0 to 8\n",
      "Data columns (total 5 columns):\n",
      " #   Column     Non-Null Count  Dtype  \n",
      "---  ------     --------------  -----  \n",
      " 0   trial_id   9 non-null      int64  \n",
      " 1   batch      9 non-null      int64  \n",
      " 2   test_acc   9 non-null      float64\n",
      " 3   config_id  9 non-null      int64  \n",
      " 4   unc_pct    9 non-null      float64\n",
      "dtypes: float64(2), int64(3)\n",
      "memory usage: 488.0 bytes\n"
     ]
    },
    {
     "data": {
      "text/html": [
       "<div>\n",
       "<style scoped>\n",
       "    .dataframe tbody tr th:only-of-type {\n",
       "        vertical-align: middle;\n",
       "    }\n",
       "\n",
       "    .dataframe tbody tr th {\n",
       "        vertical-align: top;\n",
       "    }\n",
       "\n",
       "    .dataframe thead th {\n",
       "        text-align: right;\n",
       "    }\n",
       "</style>\n",
       "<table border=\"1\" class=\"dataframe\">\n",
       "  <thead>\n",
       "    <tr style=\"text-align: right;\">\n",
       "      <th></th>\n",
       "      <th>trial_id</th>\n",
       "      <th>batch</th>\n",
       "      <th>test_acc</th>\n",
       "      <th>config_id</th>\n",
       "      <th>unc_pct</th>\n",
       "    </tr>\n",
       "  </thead>\n",
       "  <tbody>\n",
       "    <tr>\n",
       "      <th>0</th>\n",
       "      <td>1</td>\n",
       "      <td>1</td>\n",
       "      <td>0.2251</td>\n",
       "      <td>1</td>\n",
       "      <td>0.0</td>\n",
       "    </tr>\n",
       "    <tr>\n",
       "      <th>1</th>\n",
       "      <td>2</td>\n",
       "      <td>1</td>\n",
       "      <td>0.2410</td>\n",
       "      <td>1</td>\n",
       "      <td>0.0</td>\n",
       "    </tr>\n",
       "    <tr>\n",
       "      <th>2</th>\n",
       "      <td>1</td>\n",
       "      <td>2</td>\n",
       "      <td>0.2487</td>\n",
       "      <td>1</td>\n",
       "      <td>0.0</td>\n",
       "    </tr>\n",
       "    <tr>\n",
       "      <th>3</th>\n",
       "      <td>3</td>\n",
       "      <td>1</td>\n",
       "      <td>0.2651</td>\n",
       "      <td>1</td>\n",
       "      <td>0.0</td>\n",
       "    </tr>\n",
       "    <tr>\n",
       "      <th>4</th>\n",
       "      <td>4</td>\n",
       "      <td>1</td>\n",
       "      <td>0.2669</td>\n",
       "      <td>2</td>\n",
       "      <td>0.2</td>\n",
       "    </tr>\n",
       "  </tbody>\n",
       "</table>\n",
       "</div>"
      ],
      "text/plain": [
       "   trial_id  batch  test_acc  config_id  unc_pct\n",
       "0         1      1    0.2251          1      0.0\n",
       "1         2      1    0.2410          1      0.0\n",
       "2         1      2    0.2487          1      0.0\n",
       "3         3      1    0.2651          1      0.0\n",
       "4         4      1    0.2669          2      0.2"
      ]
     },
     "execution_count": 2,
     "metadata": {},
     "output_type": "execute_result"
    }
   ],
   "source": [
    "con = sqlite3.connect('../data/experiment_data/mp_test_db.db')\n",
    "\n",
    "sql = '''\n",
    "SELECT\n",
    "a.trial_id,\n",
    "a.batch,\n",
    "a.test_acc,\n",
    "a.config_id,\n",
    "unc_pct\n",
    "FROM (results\n",
    "INNER JOIN trials ON results.trial_id = trials.trial_id) as a\n",
    "INNER JOIN configurations ON a.config_id = configurations.config_id\n",
    "'''\n",
    "\n",
    "df = pd.read_sql(sql, con)\n",
    "df.info()\n",
    "df.head()"
   ]
  },
  {
   "cell_type": "code",
   "execution_count": 3,
   "id": "bae0fd6f-f937-4df5-964e-568613a5f1ae",
   "metadata": {},
   "outputs": [
    {
     "data": {
      "image/png": "[encoded data removed]",
      "text/plain": [
       "<Figure size 648x432 with 1 Axes>"
      ]
     },
     "metadata": {
      "needs_background": "light"
     },
     "output_type": "display_data"
    }
   ],
   "source": [
    "fig, ax = plt.subplots(1, 1, figsize=(9, 6))\n",
    "grouped = df.groupby(['unc_pct', 'batch'])['test_acc'].mean()\n",
    "for unc_pct in df['unc_pct'].unique():\n",
    "    ax.plot(grouped.loc[unc_pct], label=f'unc_pct = {round(unc_pct, 1)}')\n",
    "ax.legend()\n",
    "ax.set_xlabel('Number of Annotation Batches')\n",
    "ax.set_ylabel('Accuracy')\n",
    "ax.set_title('Experimental Results');"
   ]
  }
 ],
 "metadata": {
  "kernelspec": {
   "display_name": "Python 3",
   "language": "python",
   "name": "python3"
  },
  "language_info": {
   "codemirror_mode": {
    "name": "ipython",
    "version": 3
   },
   "file_extension": ".py",
   "mimetype": "text/x-python",
   "name": "python",
   "nbconvert_exporter": "python",
   "pygments_lexer": "ipython3",
   "version": "3.8.8"
  }
 },
 "nbformat": 4,
 "nbformat_minor": 5
}
