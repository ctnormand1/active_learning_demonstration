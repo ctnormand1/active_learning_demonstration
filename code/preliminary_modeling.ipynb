{
 "cells": [
  {
   "cell_type": "markdown",
   "id": "3dd644b7-5187-4c68-ae9e-5c219617a4f3",
   "metadata": {},
   "source": [
    "# Preliminary Modeling"
   ]
  },
  {
   "cell_type": "code",
   "execution_count": 1,
   "id": "b97d6a7c-3e68-4dde-a7bd-ec543e546e94",
   "metadata": {},
   "outputs": [],
   "source": [
    "# imports\n",
    "import pandas as pd\n",
    "import numpy as np\n",
    "import matplotlib.pyplot as plt\n",
    "import os\n",
    "import pickle\n",
    "\n",
    "# from tensorflow.keras.datasets import cifar10\n",
    "from tensorflow.keras.layers import Dense, Dropout, Flatten, Conv2D, MaxPooling2D\n",
    "from tensorflow.keras.models import Sequential\n",
    "from tensorflow.keras.utils import to_categorical\n",
    "\n",
    "from sklearn.model_selection import train_test_split\n"
   ]
  },
  {
   "cell_type": "code",
   "execution_count": 5,
   "id": "81eb1945-d574-4db6-94c6-79806bdb334d",
   "metadata": {},
   "outputs": [],
   "source": [
    "# Load the training images\n",
    "base_path = './data/train_images/'\n",
    "for ix, fname in enumerate(os.listdir(base_path)):\n",
    "    with open(base_path + fname, 'rb') as f:\n",
    "        f_dict = pickle.load(f, encoding='bytes')\n",
    "        f_labels = np.array(f_dict[b'labels'])\n",
    "        f_data = f_dict[b'data'].reshape([10000, 3, 32, 32]).transpose([0, 2, 3, 1])\n",
    "    labels = np.concatenate((labels, f_labels)) if ix else f_labels\n",
    "    data = np.concatenate((data, f_data)) if ix else f_data\n",
    "X_train = data\n",
    "y_train = to_categorical(labels)"
   ]
  },
  {
   "cell_type": "code",
   "execution_count": 3,
   "id": "a6617d63-1902-4867-823f-a204a54de680",
   "metadata": {},
   "outputs": [],
   "source": [
    "# Load the testing images\n",
    "base_path = './data/test_images/'\n",
    "for ix, fname in enumerate(os.listdir(base_path)):\n",
    "    with open(base_path + fname, 'rb') as f:\n",
    "        f_dict = pickle.load(f, encoding='bytes')\n",
    "        f_labels = np.array(f_dict[b'labels'])\n",
    "        f_data = f_dict[b'data'].reshape([10000, 3, 32, 32]).transpose([0, 2, 3, 1])\n",
    "    labels = np.concatenate((labels, f_labels)) if ix else f_labels\n",
    "    data = np.concatenate((data, f_data)) if ix else f_data\n",
    "X_test = data\n",
    "y_test = to_categorical(labels)"
   ]
  },
  {
   "cell_type": "code",
   "execution_count": 6,
   "id": "0abf5b62-ddcc-44da-ab7b-fd92dbf589c7",
   "metadata": {},
   "outputs": [
    {
     "name": "stdout",
     "output_type": "stream",
     "text": [
      "X_train shape:  (50000, 32, 32, 3)\n",
      "y_train shape:  (50000, 10)\n",
      "\n",
      "X_test shape:  (10000, 32, 32, 3)\n",
      "y_test shape:  (10000, 10)\n"
     ]
    }
   ],
   "source": [
    "print('X_train shape: ', X_train.shape)\n",
    "print('y_train shape: ', y_train.shape)\n",
    "print()\n",
    "print('X_test shape: ', X_test.shape)\n",
    "print('y_test shape: ', y_test.shape)"
   ]
  },
  {
   "cell_type": "code",
   "execution_count": 7,
   "id": "33eaf466-8384-4beb-821d-bf84831bb46f",
   "metadata": {},
   "outputs": [],
   "source": [
    "# build a model\n",
    "model = Sequential()\n",
    "\n",
    "model.add(Conv2D(filters=32, kernel_size=(3, 3), activation='relu', input_shape=(32, 32, 3)))\n",
    "model.add(Conv2D(filters=32, kernel_size=(3, 3), activation='relu'))\n",
    "model.add(MaxPooling2D(pool_size=(2, 2)))\n",
    "\n",
    "model.add(Flatten())\n",
    "model.add(Dense(32, activation='relu'))\n",
    "model.add(Dense(10, activation='softmax'))\n",
    "\n",
    "model.compile(optimizer='adam', loss='categorical_crossentropy', metrics=['accuracy'])"
   ]
  },
  {
   "cell_type": "code",
   "execution_count": 8,
   "id": "b285cd9d-9c28-4018-ace2-fae64e70f707",
   "metadata": {},
   "outputs": [
    {
     "name": "stdout",
     "output_type": "stream",
     "text": [
      "1563/1563 [==============================] - 179s 114ms/step - loss: 2.0753 - accuracy: 0.3181 - val_loss: 1.6293 - val_accuracy: 0.4276\n"
     ]
    }
   ],
   "source": [
    "# fit the model\n",
    "h = model.fit(X_train, y_train, validation_data=(X_test, y_test), batch_size=32, epochs=1, verbose=1)"
   ]
  },
  {
   "cell_type": "code",
   "execution_count": 21,
   "id": "a0ab8815-7ede-414f-82b5-5ebb39b9a85b",
   "metadata": {},
   "outputs": [
    {
     "data": {
      "text/plain": [
       "(10,)"
      ]
     },
     "execution_count": 21,
     "metadata": {},
     "output_type": "execute_result"
    }
   ],
   "source": []
  },
  {
   "cell_type": "code",
   "execution_count": 20,
   "id": "3b3bc5b3-65ed-4b18-a0b1-5db1dd823bb7",
   "metadata": {},
   "outputs": [
    {
     "data": {
      "text/html": [
       "<div>\n",
       "<style scoped>\n",
       "    .dataframe tbody tr th:only-of-type {\n",
       "        vertical-align: middle;\n",
       "    }\n",
       "\n",
       "    .dataframe tbody tr th {\n",
       "        vertical-align: top;\n",
       "    }\n",
       "\n",
       "    .dataframe thead th {\n",
       "        text-align: right;\n",
       "    }\n",
       "</style>\n",
       "<table border=\"1\" class=\"dataframe\">\n",
       "  <thead>\n",
       "    <tr style=\"text-align: right;\">\n",
       "      <th></th>\n",
       "      <th>true_label</th>\n",
       "      <th>predicted_label</th>\n",
       "      <th>is_annotated</th>\n",
       "    </tr>\n",
       "  </thead>\n",
       "  <tbody>\n",
       "    <tr>\n",
       "      <th>0</th>\n",
       "      <td>6</td>\n",
       "      <td>NaN</td>\n",
       "      <td>False</td>\n",
       "    </tr>\n",
       "    <tr>\n",
       "      <th>1</th>\n",
       "      <td>9</td>\n",
       "      <td>NaN</td>\n",
       "      <td>False</td>\n",
       "    </tr>\n",
       "    <tr>\n",
       "      <th>2</th>\n",
       "      <td>9</td>\n",
       "      <td>NaN</td>\n",
       "      <td>False</td>\n",
       "    </tr>\n",
       "    <tr>\n",
       "      <th>3</th>\n",
       "      <td>4</td>\n",
       "      <td>NaN</td>\n",
       "      <td>False</td>\n",
       "    </tr>\n",
       "    <tr>\n",
       "      <th>4</th>\n",
       "      <td>1</td>\n",
       "      <td>NaN</td>\n",
       "      <td>False</td>\n",
       "    </tr>\n",
       "    <tr>\n",
       "      <th>...</th>\n",
       "      <td>...</td>\n",
       "      <td>...</td>\n",
       "      <td>...</td>\n",
       "    </tr>\n",
       "    <tr>\n",
       "      <th>49995</th>\n",
       "      <td>2</td>\n",
       "      <td>NaN</td>\n",
       "      <td>False</td>\n",
       "    </tr>\n",
       "    <tr>\n",
       "      <th>49996</th>\n",
       "      <td>6</td>\n",
       "      <td>NaN</td>\n",
       "      <td>False</td>\n",
       "    </tr>\n",
       "    <tr>\n",
       "      <th>49997</th>\n",
       "      <td>9</td>\n",
       "      <td>NaN</td>\n",
       "      <td>False</td>\n",
       "    </tr>\n",
       "    <tr>\n",
       "      <th>49998</th>\n",
       "      <td>1</td>\n",
       "      <td>NaN</td>\n",
       "      <td>False</td>\n",
       "    </tr>\n",
       "    <tr>\n",
       "      <th>49999</th>\n",
       "      <td>1</td>\n",
       "      <td>NaN</td>\n",
       "      <td>False</td>\n",
       "    </tr>\n",
       "  </tbody>\n",
       "</table>\n",
       "<p>50000 rows × 3 columns</p>\n",
       "</div>"
      ],
      "text/plain": [
       "       true_label  predicted_label  is_annotated\n",
       "0               6              NaN         False\n",
       "1               9              NaN         False\n",
       "2               9              NaN         False\n",
       "3               4              NaN         False\n",
       "4               1              NaN         False\n",
       "...           ...              ...           ...\n",
       "49995           2              NaN         False\n",
       "49996           6              NaN         False\n",
       "49997           9              NaN         False\n",
       "49998           1              NaN         False\n",
       "49999           1              NaN         False\n",
       "\n",
       "[50000 rows x 3 columns]"
      ]
     },
     "execution_count": 20,
     "metadata": {},
     "output_type": "execute_result"
    }
   ],
   "source": [
    "pd.DataFrame(data={\n",
    "    'true_label': y_train,\n",
    "    'predicted_label': np.NaN,\n",
    "    'is_annotated': False,\n",
    "    'annotation_batch': np.NaN,\n",
    "    'sampling_method': np.NaN,\n",
    "    'uncertainty_score': np.NaN,\n",
    "    'diversity_score':\n",
    "})"
   ]
  },
  {
   "cell_type": "code",
   "execution_count": 7,
   "id": "abb0ffe3-21f5-4883-b815-9eda67863643",
   "metadata": {},
   "outputs": [],
   "source": [
    "preds = model.predict(X_train)"
   ]
  },
  {
   "cell_type": "code",
   "execution_count": 18,
   "id": "2acfb44b-1272-4c15-85f5-ec44107de38a",
   "metadata": {},
   "outputs": [
    {
     "data": {
      "text/plain": [
       "1.0"
      ]
     },
     "execution_count": 18,
     "metadata": {},
     "output_type": "execute_result"
    }
   ],
   "source": [
    "0.75 * (4/3)"
   ]
  },
  {
   "cell_type": "code",
   "execution_count": 32,
   "id": "5a58b429-cecf-4ab7-a226-e23c2b22875d",
   "metadata": {
    "tags": []
   },
   "outputs": [],
   "source": [
    "def margin_of_confidence_score(prob_dist):\n",
    "    prob_dist[::-1].sort()\n",
    "    difference = prob_dist[0] - prob_dist[1]\n",
    "    return 1 - difference"
   ]
  },
  {
   "cell_type": "code",
   "execution_count": 33,
   "id": "b08fdbff-4e14-43c9-8500-88435d598b37",
   "metadata": {},
   "outputs": [],
   "source": [
    "def uncertainty_scores(predictions):\n",
    "    scores = []\n",
    "    for prob_dist in predictions:\n",
    "        score = margin_of_confidence_score(prob_dist)\n",
    "        scores.append(score)\n",
    "    return np.array(scores) "
   ]
  },
  {
   "cell_type": "code",
   "execution_count": 27,
   "id": "ac61c449-fd83-4600-8278-d1040c64d627",
   "metadata": {},
   "outputs": [
    {
     "data": {
      "text/plain": [
       "array([6.8614244e-01, 2.2179852e-01, 3.7347563e-02, 3.0262331e-02,\n",
       "       1.0942385e-02, 6.1705755e-03, 2.5920144e-03, 2.4669287e-03,\n",
       "       1.9037212e-03, 3.7353954e-04], dtype=float32)"
      ]
     },
     "execution_count": 27,
     "metadata": {},
     "output_type": "execute_result"
    }
   ],
   "source": [
    "np.sort(preds[1])"
   ]
  },
  {
   "cell_type": "code",
   "execution_count": 31,
   "id": "727c5d0e-aa90-4a0b-8e25-d92e6c23d14a",
   "metadata": {},
   "outputs": [
    {
     "data": {
      "text/plain": [
       "0.9353553354740143"
      ]
     },
     "execution_count": 31,
     "metadata": {},
     "output_type": "execute_result"
    }
   ],
   "source": [
    "uncertainty_score(preds[4])"
   ]
  },
  {
   "cell_type": "code",
   "execution_count": 34,
   "id": "d2163ee9-3257-4f9f-8b35-ff92177bd516",
   "metadata": {},
   "outputs": [
    {
     "name": "stdout",
     "output_type": "stream",
     "text": [
      "[4.6503745e-04 6.9991039e-04 1.2940875e-03 1.7228283e-03 1.1481809e-02\n",
      " 3.6671530e-02 9.6358582e-02 1.1513564e-01 1.9469997e-01 5.4147053e-01]\n",
      "[3.0262331e-02 2.2179852e-01 6.1705755e-03 2.5920144e-03 1.0942385e-02\n",
      " 3.7353954e-04 2.4669287e-03 1.9037212e-03 3.7347563e-02 6.8614244e-01]\n",
      "[0.11443135 0.03947278 0.24095923 0.07227916 0.09701898 0.01859178\n",
      " 0.01240703 0.06950395 0.22530982 0.11002599]\n",
      "[8.6270273e-03 9.8331446e-05 1.5845659e-01 2.5484832e-02 6.3462621e-01\n",
      " 2.8931728e-02 9.0005465e-02 5.1676374e-02 1.8699926e-03 2.2337456e-04]\n",
      "[0.0298217  0.4920789  0.00382676 0.00245585 0.00697395 0.00058473\n",
      " 0.00164608 0.00233572 0.03284207 0.42743424]\n"
     ]
    }
   ],
   "source": [
    "uncertainty_scores(preds)"
   ]
  },
  {
   "cell_type": "code",
   "execution_count": 11,
   "id": "5fdeadae-69a9-421a-b536-31670ca6e514",
   "metadata": {},
   "outputs": [
    {
     "data": {
      "text/plain": [
       "array([8, 7, 6, 6, 5, 4, 4, 3])"
      ]
     },
     "execution_count": 11,
     "metadata": {},
     "output_type": "execute_result"
    }
   ],
   "source": [
    "a = np.array([4, 3, 7, 6, 4, 8, 6, 5])\n",
    "a[::-1].sort()\n",
    "a"
   ]
  },
  {
   "cell_type": "code",
   "execution_count": 9,
   "id": "1bf12cc1-818b-4165-8384-a10144b31dcc",
   "metadata": {},
   "outputs": [
    {
     "ename": "NameError",
     "evalue": "name 'load_cifar10' is not defined",
     "output_type": "error",
     "traceback": [
      "\u001b[1;31m---------------------------------------------------------------------------\u001b[0m",
      "\u001b[1;31mNameError\u001b[0m                                 Traceback (most recent call last)",
      "\u001b[1;32m<ipython-input-9-37db53562ced>\u001b[0m in \u001b[0;36m<module>\u001b[1;34m\u001b[0m\n\u001b[1;32m----> 1\u001b[1;33m \u001b[0mX_train\u001b[0m\u001b[1;33m,\u001b[0m \u001b[0my_train\u001b[0m\u001b[1;33m,\u001b[0m \u001b[0mX_val\u001b[0m\u001b[1;33m,\u001b[0m \u001b[0my_val\u001b[0m\u001b[1;33m,\u001b[0m \u001b[0mX_test\u001b[0m\u001b[1;33m,\u001b[0m \u001b[0my_test\u001b[0m \u001b[1;33m=\u001b[0m \u001b[0mload_cifar10\u001b[0m\u001b[1;33m(\u001b[0m\u001b[1;33m)\u001b[0m\u001b[1;33m\u001b[0m\u001b[1;33m\u001b[0m\u001b[0m\n\u001b[0m",
      "\u001b[1;31mNameError\u001b[0m: name 'load_cifar10' is not defined"
     ]
    }
   ],
   "source": [
    "X_train, y_train, X_val, y_val, X_test, y_test = load_cifar10()"
   ]
  }
 ],
 "metadata": {
  "kernelspec": {
   "display_name": "Python 3",
   "language": "python",
   "name": "python3"
  },
  "language_info": {
   "codemirror_mode": {
    "name": "ipython",
    "version": 3
   },
   "file_extension": ".py",
   "mimetype": "text/x-python",
   "name": "python",
   "nbconvert_exporter": "python",
   "pygments_lexer": "ipython3",
   "version": "3.8.8"
  }
 },
 "nbformat": 4,
 "nbformat_minor": 5
}
